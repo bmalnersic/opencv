{
  "nbformat": 4,
  "nbformat_minor": 0,
  "metadata": {
    "colab": {
      "name": "intro-to-colab.ipynb",
      "provenance": [],
      "collapsed_sections": [],
      "authorship_tag": "ABX9TyNX6Nab4c4M9EPhjzsFx/tl",
      "include_colab_link": true
    },
    "kernelspec": {
      "name": "python3",
      "display_name": "Python 3"
    },
    "language_info": {
      "name": "python"
    },
    "accelerator": "GPU"
  },
  "cells": [
    {
      "cell_type": "markdown",
      "metadata": {
        "id": "view-in-github",
        "colab_type": "text"
      },
      "source": [
        "<a href=\"https://colab.research.google.com/github/bmalnersic/opencv/blob/main/intro_to_colab.ipynb\" target=\"_parent\"><img src=\"https://colab.research.google.com/assets/colab-badge.svg\" alt=\"Open In Colab\"/></a>"
      ]
    },
    {
      "cell_type": "code",
      "source": [
        "import numpy as np\n",
        "import keras\n",
        "import tensorflow as tf\n",
        "import cv2\n",
        "import matplotlib.pyplot as plt\n",
        "\n",
        "print(cv2.__version__)\n",
        "print(tf.__version__)\n",
        "print(keras.__version__)\n",
        "print('Default GPU Device: {}'.format(tf.test.gpu_device_name()))"
      ],
      "metadata": {
        "colab": {
          "base_uri": "https://localhost:8080/"
        },
        "id": "x5VjS0n99Sex",
        "outputId": "f5585132-e34f-4014-81a1-19a4819d8355"
      },
      "execution_count": null,
      "outputs": [
        {
          "output_type": "stream",
          "name": "stdout",
          "text": [
            "4.1.2\n",
            "2.8.0\n",
            "2.8.0\n",
            "Default GPU Device: /device:GPU:0\n"
          ]
        }
      ]
    },
    {
      "cell_type": "code",
      "source": [
        "%%bash\n",
        "apt-get install caffe-cuda"
      ],
      "metadata": {
        "colab": {
          "base_uri": "https://localhost:8080/"
        },
        "id": "S3dXf2cEAHlZ",
        "outputId": "06a4a6c6-6d6c-4adf-c342-f1c8da031692"
      },
      "execution_count": null,
      "outputs": [
        {
          "output_type": "stream",
          "name": "stdout",
          "text": [
            "Reading package lists...\n",
            "Building dependency tree...\n",
            "Reading state information...\n",
            "The following packages were automatically installed and are no longer required:\n",
            "  libnvidia-common-460 nsight-compute-2020.2.0\n",
            "Use 'apt autoremove' to remove them.\n",
            "The following additional packages will be installed:\n",
            "  caffe-tools-cuda cython3 fonts-lyx javascript-common libblosc1\n",
            "  libcaffe-cuda1 libcublas9.1 libcudart9.1 libcurand9.1 libgflags2.2\n",
            "  libgoogle-glog0v5 libjs-jquery libjs-jquery-ui libleveldb1v5 liblmdb0\n",
            "  python-matplotlib-data python-tables-data python3-bs4 python3-caffe-cuda\n",
            "  python3-chardet python3-cycler python3-dateutil python3-decorator\n",
            "  python3-gflags python3-h5py python3-html5lib python3-ipython\n",
            "  python3-ipython-genutils python3-leveldb python3-lxml python3-matplotlib\n",
            "  python3-networkx python3-nose python3-numexpr python3-numpy python3-olefile\n",
            "  python3-pandas python3-pandas-lib python3-pexpect python3-pickleshare\n",
            "  python3-pil python3-pkg-resources python3-prompt-toolkit python3-protobuf\n",
            "  python3-ptyprocess python3-pygments python3-pyparsing python3-pywt\n",
            "  python3-scipy python3-simplegeneric python3-six python3-skimage\n",
            "  python3-skimage-lib python3-tables python3-tables-lib python3-traitlets\n",
            "  python3-tz python3-wcwidth python3-webencodings python3-yaml\n",
            "  ttf-bitstream-vera\n",
            "Suggested packages:\n",
            "  libcaffe-cuda-dev caffe-doc cython-doc apache2 | lighttpd | httpd\n",
            "  libjs-jquery-ui-docs python-cycler-doc python-h5py-doc python3-genshi\n",
            "  python3-lxml-dbg python-lxml-doc dvipng gir1.2-gtk-3.0 ghostscript inkscape\n",
            "  ipython3 python-matplotlib-doc python3-cairocffi python3-gi-cairo\n",
            "  python3-gobject python3-pyqt4 python3-sip python3-tornado\n",
            "  texlive-extra-utils texlive-latex-extra ttf-staypuft python3-pydotplus\n",
            "  python-nose-doc python-numpy-doc python3-numpy-dbg python-pandas-doc\n",
            "  python-pexpect-doc python-pil-doc python3-pil-dbg python3-setuptools\n",
            "  python-pyparsing-doc python-scipy-doc python-skimage-doc python-tables-doc\n",
            "  python3-netcdf4 vitables\n",
            "The following NEW packages will be installed:\n",
            "  caffe-cuda caffe-tools-cuda cython3 fonts-lyx javascript-common libblosc1\n",
            "  libcaffe-cuda1 libcublas9.1 libcudart9.1 libcurand9.1 libgflags2.2\n",
            "  libgoogle-glog0v5 libjs-jquery libjs-jquery-ui libleveldb1v5 liblmdb0\n",
            "  python-matplotlib-data python-tables-data python3-bs4 python3-caffe-cuda\n",
            "  python3-chardet python3-cycler python3-dateutil python3-decorator\n",
            "  python3-gflags python3-h5py python3-html5lib python3-ipython\n",
            "  python3-ipython-genutils python3-leveldb python3-lxml python3-matplotlib\n",
            "  python3-networkx python3-nose python3-numexpr python3-numpy python3-olefile\n",
            "  python3-pandas python3-pandas-lib python3-pexpect python3-pickleshare\n",
            "  python3-pil python3-pkg-resources python3-prompt-toolkit python3-protobuf\n",
            "  python3-ptyprocess python3-pygments python3-pyparsing python3-pywt\n",
            "  python3-scipy python3-simplegeneric python3-six python3-skimage\n",
            "  python3-skimage-lib python3-tables python3-tables-lib python3-traitlets\n",
            "  python3-tz python3-wcwidth python3-webencodings python3-yaml\n",
            "  ttf-bitstream-vera\n",
            "0 upgraded, 62 newly installed, 0 to remove and 42 not upgraded.\n",
            "Need to get 123 MB of archives.\n",
            "After this operation, 327 MB of additional disk space will be used.\n",
            "Get:1 http://archive.ubuntu.com/ubuntu bionic/main amd64 python3-yaml amd64 3.12-1build2 [109 kB]\n",
            "Get:2 http://archive.ubuntu.com/ubuntu bionic/multiverse amd64 libcublas9.1 amd64 9.1.85-3ubuntu1 [25.0 MB]\n",
            "Get:3 http://archive.ubuntu.com/ubuntu bionic/multiverse amd64 libcudart9.1 amd64 9.1.85-3ubuntu1 [121 kB]\n",
            "Get:4 http://archive.ubuntu.com/ubuntu bionic/multiverse amd64 libcurand9.1 amd64 9.1.85-3ubuntu1 [38.9 MB]\n",
            "Get:5 http://archive.ubuntu.com/ubuntu bionic/universe amd64 libgflags2.2 amd64 2.2.1-1 [72.4 kB]\n",
            "Get:6 http://archive.ubuntu.com/ubuntu bionic/universe amd64 libgoogle-glog0v5 amd64 0.3.5-1 [50.5 kB]\n",
            "Get:7 http://archive.ubuntu.com/ubuntu bionic/main amd64 libleveldb1v5 amd64 1.20-2 [136 kB]\n",
            "Get:8 http://archive.ubuntu.com/ubuntu bionic-updates/universe amd64 liblmdb0 amd64 0.9.21-1ubuntu0.1 [44.6 kB]\n",
            "Get:9 http://archive.ubuntu.com/ubuntu bionic/multiverse amd64 libcaffe-cuda1 amd64 1.0.0-6build1 [1,600 kB]\n",
            "Get:10 http://archive.ubuntu.com/ubuntu bionic/multiverse amd64 caffe-tools-cuda amd64 1.0.0-6build1 [105 kB]\n",
            "Get:11 http://archive.ubuntu.com/ubuntu bionic/universe amd64 cython3 amd64 0.26.1-0.4 [1,925 kB]\n",
            "Get:12 http://archive.ubuntu.com/ubuntu bionic/main amd64 python3-six all 1.11.0-2 [11.4 kB]\n",
            "Get:13 http://archive.ubuntu.com/ubuntu bionic/main amd64 python3-dateutil all 2.6.1-1 [52.3 kB]\n",
            "Get:14 http://archive.ubuntu.com/ubuntu bionic/universe amd64 python3-gflags all 1.5.1-5 [35.6 kB]\n",
            "Get:15 http://archive.ubuntu.com/ubuntu bionic/main amd64 python3-numpy amd64 1:1.13.3-2ubuntu1 [1,943 kB]\n",
            "Get:16 http://archive.ubuntu.com/ubuntu bionic/universe amd64 python3-h5py amd64 2.7.1-2 [631 kB]\n",
            "Get:17 http://archive.ubuntu.com/ubuntu bionic/universe amd64 python3-decorator all 4.1.2-1 [9,364 B]\n",
            "Get:18 http://archive.ubuntu.com/ubuntu bionic/main amd64 python3-ptyprocess all 0.5.2-1 [12.7 kB]\n",
            "Get:19 http://archive.ubuntu.com/ubuntu bionic/main amd64 python3-pexpect all 4.2.1-1 [42.4 kB]\n",
            "Get:20 http://archive.ubuntu.com/ubuntu bionic/universe amd64 python3-pickleshare all 0.7.4-2 [6,904 B]\n",
            "Get:21 http://archive.ubuntu.com/ubuntu bionic/main amd64 python3-pkg-resources all 39.0.1-2 [98.8 kB]\n",
            "Get:22 http://archive.ubuntu.com/ubuntu bionic/universe amd64 python3-wcwidth all 0.1.7+dfsg1-1 [14.7 kB]\n",
            "Get:23 http://archive.ubuntu.com/ubuntu bionic/universe amd64 python3-prompt-toolkit all 1.0.15-1 [163 kB]\n",
            "Get:24 http://archive.ubuntu.com/ubuntu bionic-updates/main amd64 python3-pygments all 2.2.0+dfsg-1ubuntu0.2 [574 kB]\n",
            "Get:25 http://archive.ubuntu.com/ubuntu bionic/universe amd64 python3-simplegeneric all 0.8.1-1 [11.5 kB]\n",
            "Get:26 http://archive.ubuntu.com/ubuntu bionic/universe amd64 python3-ipython-genutils all 0.2.0-1 [20.9 kB]\n",
            "Get:27 http://archive.ubuntu.com/ubuntu bionic/universe amd64 python3-traitlets all 4.3.2-1 [59.1 kB]\n",
            "Get:28 http://archive.ubuntu.com/ubuntu bionic/universe amd64 python3-ipython all 5.5.0-1 [381 kB]\n",
            "Get:29 http://archive.ubuntu.com/ubuntu bionic/universe amd64 python3-leveldb amd64 0~svn68-3build3 [18.3 kB]\n",
            "Get:30 http://archive.ubuntu.com/ubuntu bionic-updates/universe amd64 fonts-lyx all 2.2.4-0ubuntu0.18.04.1 [155 kB]\n",
            "Get:31 http://archive.ubuntu.com/ubuntu bionic/universe amd64 ttf-bitstream-vera all 1.10-8 [352 kB]\n",
            "Get:32 http://archive.ubuntu.com/ubuntu bionic/universe amd64 python-matplotlib-data all 2.1.1-2ubuntu3 [3,774 kB]\n",
            "Get:33 http://archive.ubuntu.com/ubuntu bionic/main amd64 python3-pyparsing all 2.2.0+dfsg1-2 [52.2 kB]\n",
            "Get:34 http://archive.ubuntu.com/ubuntu bionic/main amd64 python3-tz all 2018.3-2 [25.1 kB]\n",
            "Get:35 http://archive.ubuntu.com/ubuntu bionic/main amd64 libjs-jquery all 3.2.1-1 [152 kB]\n",
            "Get:36 http://archive.ubuntu.com/ubuntu bionic/universe amd64 libjs-jquery-ui all 1.12.1+dfsg-5 [232 kB]\n",
            "Get:37 http://archive.ubuntu.com/ubuntu bionic/universe amd64 python3-cycler all 0.10.0-1 [7,622 B]\n",
            "Get:38 http://archive.ubuntu.com/ubuntu bionic/universe amd64 python3-matplotlib amd64 2.1.1-2ubuntu3 [3,907 kB]\n",
            "Get:39 http://archive.ubuntu.com/ubuntu bionic-updates/universe amd64 python3-networkx all 1.11-1ubuntu3 [606 kB]\n",
            "Get:40 http://archive.ubuntu.com/ubuntu bionic/universe amd64 python3-nose all 1.3.7-3 [115 kB]\n",
            "Get:41 http://archive.ubuntu.com/ubuntu bionic-updates/universe amd64 python3-pandas-lib amd64 0.22.0-4ubuntu1 [3,041 kB]\n",
            "Get:42 http://archive.ubuntu.com/ubuntu bionic-updates/universe amd64 python3-pandas all 0.22.0-4ubuntu1 [2,765 kB]\n",
            "Get:43 http://archive.ubuntu.com/ubuntu bionic-updates/main amd64 python3-pil amd64 5.1.0-1ubuntu0.7 [331 kB]\n",
            "Get:44 http://archive.ubuntu.com/ubuntu bionic/main amd64 python3-protobuf amd64 3.0.0-9.1ubuntu1 [262 kB]\n",
            "Get:45 http://archive.ubuntu.com/ubuntu bionic/universe amd64 python3-scipy amd64 0.19.1-2ubuntu1 [9,619 kB]\n",
            "Get:46 http://archive.ubuntu.com/ubuntu bionic/universe amd64 python3-skimage-lib amd64 0.13.1-2 [1,504 kB]\n",
            "Get:47 http://archive.ubuntu.com/ubuntu bionic/universe amd64 python3-pywt amd64 0.5.1-1.1ubuntu4 [932 kB]\n",
            "Get:48 http://archive.ubuntu.com/ubuntu bionic/universe amd64 python3-skimage all 0.13.1-2 [19.6 MB]\n",
            "Get:49 http://archive.ubuntu.com/ubuntu bionic/multiverse amd64 python3-caffe-cuda amd64 1.0.0-6build1 [689 kB]\n",
            "Get:50 http://archive.ubuntu.com/ubuntu bionic/multiverse amd64 caffe-cuda amd64 1.0.0-6build1 [4,564 B]\n",
            "Get:51 http://archive.ubuntu.com/ubuntu bionic/main amd64 javascript-common all 11 [6,066 B]\n",
            "Get:52 http://archive.ubuntu.com/ubuntu bionic/universe amd64 libblosc1 amd64 1.14.2+ds1-1 [31.4 kB]\n",
            "Get:53 http://archive.ubuntu.com/ubuntu bionic/universe amd64 python-tables-data all 3.4.2-4 [46.1 kB]\n",
            "Get:54 http://archive.ubuntu.com/ubuntu bionic/main amd64 python3-bs4 all 4.6.0-1 [67.8 kB]\n",
            "Get:55 http://archive.ubuntu.com/ubuntu bionic/main amd64 python3-chardet all 3.0.4-1 [80.3 kB]\n",
            "Get:56 http://archive.ubuntu.com/ubuntu bionic/main amd64 python3-webencodings all 0.5-2 [10.4 kB]\n",
            "Get:57 http://archive.ubuntu.com/ubuntu bionic/main amd64 python3-html5lib all 0.999999999-1 [81.9 kB]\n",
            "Get:58 http://archive.ubuntu.com/ubuntu bionic-updates/main amd64 python3-lxml amd64 4.2.1-1ubuntu0.6 [1,098 kB]\n",
            "Get:59 http://archive.ubuntu.com/ubuntu bionic/universe amd64 python3-numexpr amd64 2.6.4-1 [119 kB]\n",
            "Get:60 http://archive.ubuntu.com/ubuntu bionic/main amd64 python3-olefile all 0.45.1-1 [33.3 kB]\n",
            "Get:61 http://archive.ubuntu.com/ubuntu bionic/universe amd64 python3-tables-lib amd64 3.4.2-4 [413 kB]\n",
            "Get:62 http://archive.ubuntu.com/ubuntu bionic/universe amd64 python3-tables all 3.4.2-4 [331 kB]\n",
            "Fetched 123 MB in 6s (21.7 MB/s)\n",
            "Selecting previously unselected package python3-yaml.\r\n",
            "(Reading database ... \r(Reading database ... 5%\r(Reading database ... 10%\r(Reading database ... 15%\r(Reading database ... 20%\r(Reading database ... 25%\r(Reading database ... 30%\r(Reading database ... 35%\r(Reading database ... 40%\r(Reading database ... 45%\r(Reading database ... 50%\r(Reading database ... 55%\r(Reading database ... 60%\r(Reading database ... 65%\r(Reading database ... 70%\r(Reading database ... 75%\r(Reading database ... 80%\r(Reading database ... 85%\r(Reading database ... 90%\r(Reading database ... 95%\r(Reading database ... 100%\r(Reading database ... 155202 files and directories currently installed.)\r\n",
            "Preparing to unpack .../00-python3-yaml_3.12-1build2_amd64.deb ...\r\n",
            "Unpacking python3-yaml (3.12-1build2) ...\r\n",
            "Selecting previously unselected package libcublas9.1:amd64.\r\n",
            "Preparing to unpack .../01-libcublas9.1_9.1.85-3ubuntu1_amd64.deb ...\r\n",
            "Unpacking libcublas9.1:amd64 (9.1.85-3ubuntu1) ...\r\n",
            "Selecting previously unselected package libcudart9.1:amd64.\r\n",
            "Preparing to unpack .../02-libcudart9.1_9.1.85-3ubuntu1_amd64.deb ...\r\n",
            "Unpacking libcudart9.1:amd64 (9.1.85-3ubuntu1) ...\r\n",
            "Selecting previously unselected package libcurand9.1:amd64.\r\n",
            "Preparing to unpack .../03-libcurand9.1_9.1.85-3ubuntu1_amd64.deb ...\r\n",
            "Unpacking libcurand9.1:amd64 (9.1.85-3ubuntu1) ...\r\n",
            "Selecting previously unselected package libgflags2.2.\r\n",
            "Preparing to unpack .../04-libgflags2.2_2.2.1-1_amd64.deb ...\r\n",
            "Unpacking libgflags2.2 (2.2.1-1) ...\r\n",
            "Selecting previously unselected package libgoogle-glog0v5.\r\n",
            "Preparing to unpack .../05-libgoogle-glog0v5_0.3.5-1_amd64.deb ...\r\n",
            "Unpacking libgoogle-glog0v5 (0.3.5-1) ...\r\n",
            "Selecting previously unselected package libleveldb1v5:amd64.\r\n",
            "Preparing to unpack .../06-libleveldb1v5_1.20-2_amd64.deb ...\r\n",
            "Unpacking libleveldb1v5:amd64 (1.20-2) ...\r\n",
            "Selecting previously unselected package liblmdb0:amd64.\r\n",
            "Preparing to unpack .../07-liblmdb0_0.9.21-1ubuntu0.1_amd64.deb ...\r\n",
            "Unpacking liblmdb0:amd64 (0.9.21-1ubuntu0.1) ...\r\n",
            "Selecting previously unselected package libcaffe-cuda1:amd64.\r\n",
            "Preparing to unpack .../08-libcaffe-cuda1_1.0.0-6build1_amd64.deb ...\r\n",
            "Unpacking libcaffe-cuda1:amd64 (1.0.0-6build1) ...\r\n",
            "Selecting previously unselected package caffe-tools-cuda.\r\n",
            "Preparing to unpack .../09-caffe-tools-cuda_1.0.0-6build1_amd64.deb ...\r\n",
            "Unpacking caffe-tools-cuda (1.0.0-6build1) ...\r\n",
            "Selecting previously unselected package cython3.\r\n",
            "Preparing to unpack .../10-cython3_0.26.1-0.4_amd64.deb ...\r\n",
            "Unpacking cython3 (0.26.1-0.4) ...\r\n",
            "Selecting previously unselected package python3-six.\r\n",
            "Preparing to unpack .../11-python3-six_1.11.0-2_all.deb ...\r\n",
            "Unpacking python3-six (1.11.0-2) ...\r\n",
            "Selecting previously unselected package python3-dateutil.\r\n",
            "Preparing to unpack .../12-python3-dateutil_2.6.1-1_all.deb ...\r\n",
            "Unpacking python3-dateutil (2.6.1-1) ...\r\n",
            "Selecting previously unselected package python3-gflags.\r\n",
            "Preparing to unpack .../13-python3-gflags_1.5.1-5_all.deb ...\r\n",
            "Unpacking python3-gflags (1.5.1-5) ...\r\n",
            "Selecting previously unselected package python3-numpy.\r\n",
            "Preparing to unpack .../14-python3-numpy_1%3a1.13.3-2ubuntu1_amd64.deb ...\r\n",
            "Unpacking python3-numpy (1:1.13.3-2ubuntu1) ...\r\n",
            "Selecting previously unselected package python3-h5py.\r\n",
            "Preparing to unpack .../15-python3-h5py_2.7.1-2_amd64.deb ...\r\n",
            "Unpacking python3-h5py (2.7.1-2) ...\r\n",
            "Selecting previously unselected package python3-decorator.\r\n",
            "Preparing to unpack .../16-python3-decorator_4.1.2-1_all.deb ...\r\n",
            "Unpacking python3-decorator (4.1.2-1) ...\r\n",
            "Selecting previously unselected package python3-ptyprocess.\r\n",
            "Preparing to unpack .../17-python3-ptyprocess_0.5.2-1_all.deb ...\r\n",
            "Unpacking python3-ptyprocess (0.5.2-1) ...\r\n",
            "Selecting previously unselected package python3-pexpect.\r\n",
            "Preparing to unpack .../18-python3-pexpect_4.2.1-1_all.deb ...\r\n",
            "Unpacking python3-pexpect (4.2.1-1) ...\r\n",
            "Selecting previously unselected package python3-pickleshare.\r\n",
            "Preparing to unpack .../19-python3-pickleshare_0.7.4-2_all.deb ...\r\n",
            "Unpacking python3-pickleshare (0.7.4-2) ...\r\n",
            "Selecting previously unselected package python3-pkg-resources.\r\n",
            "Preparing to unpack .../20-python3-pkg-resources_39.0.1-2_all.deb ...\r\n",
            "Unpacking python3-pkg-resources (39.0.1-2) ...\r\n",
            "Selecting previously unselected package python3-wcwidth.\r\n",
            "Preparing to unpack .../21-python3-wcwidth_0.1.7+dfsg1-1_all.deb ...\r\n",
            "Unpacking python3-wcwidth (0.1.7+dfsg1-1) ...\r\n",
            "Selecting previously unselected package python3-prompt-toolkit.\r\n",
            "Preparing to unpack .../22-python3-prompt-toolkit_1.0.15-1_all.deb ...\r\n",
            "Unpacking python3-prompt-toolkit (1.0.15-1) ...\r\n",
            "Selecting previously unselected package python3-pygments.\r\n",
            "Preparing to unpack .../23-python3-pygments_2.2.0+dfsg-1ubuntu0.2_all.deb ...\r\n",
            "Unpacking python3-pygments (2.2.0+dfsg-1ubuntu0.2) ...\r\n",
            "Selecting previously unselected package python3-simplegeneric.\r\n",
            "Preparing to unpack .../24-python3-simplegeneric_0.8.1-1_all.deb ...\r\n",
            "Unpacking python3-simplegeneric (0.8.1-1) ...\r\n",
            "Selecting previously unselected package python3-ipython-genutils.\r\n",
            "Preparing to unpack .../25-python3-ipython-genutils_0.2.0-1_all.deb ...\r\n",
            "Unpacking python3-ipython-genutils (0.2.0-1) ...\r\n",
            "Selecting previously unselected package python3-traitlets.\r\n",
            "Preparing to unpack .../26-python3-traitlets_4.3.2-1_all.deb ...\r\n",
            "Unpacking python3-traitlets (4.3.2-1) ...\r\n",
            "Selecting previously unselected package python3-ipython.\r\n",
            "Preparing to unpack .../27-python3-ipython_5.5.0-1_all.deb ...\r\n",
            "Unpacking python3-ipython (5.5.0-1) ...\r\n",
            "Selecting previously unselected package python3-leveldb.\r\n",
            "Preparing to unpack .../28-python3-leveldb_0~svn68-3build3_amd64.deb ...\r\n",
            "Unpacking python3-leveldb (0~svn68-3build3) ...\r\n",
            "Selecting previously unselected package fonts-lyx.\r\n",
            "Preparing to unpack .../29-fonts-lyx_2.2.4-0ubuntu0.18.04.1_all.deb ...\r\n",
            "Unpacking fonts-lyx (2.2.4-0ubuntu0.18.04.1) ...\r\n",
            "Selecting previously unselected package ttf-bitstream-vera.\r\n",
            "Preparing to unpack .../30-ttf-bitstream-vera_1.10-8_all.deb ...\r\n",
            "Unpacking ttf-bitstream-vera (1.10-8) ...\r\n",
            "Selecting previously unselected package python-matplotlib-data.\r\n",
            "Preparing to unpack .../31-python-matplotlib-data_2.1.1-2ubuntu3_all.deb ...\r\n",
            "Unpacking python-matplotlib-data (2.1.1-2ubuntu3) ...\r\n",
            "Selecting previously unselected package python3-pyparsing.\r\n",
            "Preparing to unpack .../32-python3-pyparsing_2.2.0+dfsg1-2_all.deb ...\r\n",
            "Unpacking python3-pyparsing (2.2.0+dfsg1-2) ...\r\n",
            "Selecting previously unselected package python3-tz.\r\n",
            "Preparing to unpack .../33-python3-tz_2018.3-2_all.deb ...\r\n",
            "Unpacking python3-tz (2018.3-2) ...\r\n",
            "Selecting previously unselected package libjs-jquery.\r\n",
            "Preparing to unpack .../34-libjs-jquery_3.2.1-1_all.deb ...\r\n",
            "Unpacking libjs-jquery (3.2.1-1) ...\r\n",
            "Selecting previously unselected package libjs-jquery-ui.\r\n",
            "Preparing to unpack .../35-libjs-jquery-ui_1.12.1+dfsg-5_all.deb ...\r\n",
            "Unpacking libjs-jquery-ui (1.12.1+dfsg-5) ...\r\n",
            "Selecting previously unselected package python3-cycler.\r\n",
            "Preparing to unpack .../36-python3-cycler_0.10.0-1_all.deb ...\r\n",
            "Unpacking python3-cycler (0.10.0-1) ...\r\n",
            "Selecting previously unselected package python3-matplotlib.\r\n",
            "Preparing to unpack .../37-python3-matplotlib_2.1.1-2ubuntu3_amd64.deb ...\r\n",
            "Unpacking python3-matplotlib (2.1.1-2ubuntu3) ...\r\n",
            "Selecting previously unselected package python3-networkx.\r\n",
            "Preparing to unpack .../38-python3-networkx_1.11-1ubuntu3_all.deb ...\r\n",
            "Unpacking python3-networkx (1.11-1ubuntu3) ...\r\n",
            "Selecting previously unselected package python3-nose.\r\n",
            "Preparing to unpack .../39-python3-nose_1.3.7-3_all.deb ...\r\n",
            "Unpacking python3-nose (1.3.7-3) ...\r\n",
            "Selecting previously unselected package python3-pandas-lib.\r\n",
            "Preparing to unpack .../40-python3-pandas-lib_0.22.0-4ubuntu1_amd64.deb ...\r\n",
            "Unpacking python3-pandas-lib (0.22.0-4ubuntu1) ...\r\n",
            "Selecting previously unselected package python3-pandas.\r\n",
            "Preparing to unpack .../41-python3-pandas_0.22.0-4ubuntu1_all.deb ...\r\n",
            "Unpacking python3-pandas (0.22.0-4ubuntu1) ...\r\n",
            "Selecting previously unselected package python3-pil:amd64.\r\n",
            "Preparing to unpack .../42-python3-pil_5.1.0-1ubuntu0.7_amd64.deb ...\r\n",
            "Unpacking python3-pil:amd64 (5.1.0-1ubuntu0.7) ...\r\n",
            "Selecting previously unselected package python3-protobuf.\r\n",
            "Preparing to unpack .../43-python3-protobuf_3.0.0-9.1ubuntu1_amd64.deb ...\r\n",
            "Unpacking python3-protobuf (3.0.0-9.1ubuntu1) ...\r\n",
            "Selecting previously unselected package python3-scipy.\r\n",
            "Preparing to unpack .../44-python3-scipy_0.19.1-2ubuntu1_amd64.deb ...\r\n",
            "Unpacking python3-scipy (0.19.1-2ubuntu1) ...\r\n",
            "Selecting previously unselected package python3-skimage-lib:amd64.\r\n",
            "Preparing to unpack .../45-python3-skimage-lib_0.13.1-2_amd64.deb ...\r\n",
            "Unpacking python3-skimage-lib:amd64 (0.13.1-2) ...\r\n",
            "Selecting previously unselected package python3-pywt.\r\n",
            "Preparing to unpack .../46-python3-pywt_0.5.1-1.1ubuntu4_amd64.deb ...\r\n",
            "Unpacking python3-pywt (0.5.1-1.1ubuntu4) ...\r\n",
            "Selecting previously unselected package python3-skimage.\r\n",
            "Preparing to unpack .../47-python3-skimage_0.13.1-2_all.deb ...\r\n",
            "Unpacking python3-skimage (0.13.1-2) ...\r\n",
            "Selecting previously unselected package python3-caffe-cuda.\r\n",
            "Preparing to unpack .../48-python3-caffe-cuda_1.0.0-6build1_amd64.deb ...\r\n",
            "Unpacking python3-caffe-cuda (1.0.0-6build1) ...\r\n",
            "Selecting previously unselected package caffe-cuda.\r\n",
            "Preparing to unpack .../49-caffe-cuda_1.0.0-6build1_amd64.deb ...\r\n",
            "Unpacking caffe-cuda (1.0.0-6build1) ...\r\n",
            "Selecting previously unselected package javascript-common.\r\n",
            "Preparing to unpack .../50-javascript-common_11_all.deb ...\r\n",
            "Unpacking javascript-common (11) ...\r\n",
            "Selecting previously unselected package libblosc1.\r\n",
            "Preparing to unpack .../51-libblosc1_1.14.2+ds1-1_amd64.deb ...\r\n",
            "Unpacking libblosc1 (1.14.2+ds1-1) ...\r\n",
            "Selecting previously unselected package python-tables-data.\r\n",
            "Preparing to unpack .../52-python-tables-data_3.4.2-4_all.deb ...\r\n",
            "Unpacking python-tables-data (3.4.2-4) ...\r\n",
            "Selecting previously unselected package python3-bs4.\r\n",
            "Preparing to unpack .../53-python3-bs4_4.6.0-1_all.deb ...\r\n",
            "Unpacking python3-bs4 (4.6.0-1) ...\r\n",
            "Selecting previously unselected package python3-chardet.\r\n",
            "Preparing to unpack .../54-python3-chardet_3.0.4-1_all.deb ...\r\n",
            "Unpacking python3-chardet (3.0.4-1) ...\r\n",
            "Selecting previously unselected package python3-webencodings.\r\n",
            "Preparing to unpack .../55-python3-webencodings_0.5-2_all.deb ...\r\n",
            "Unpacking python3-webencodings (0.5-2) ...\r\n",
            "Selecting previously unselected package python3-html5lib.\r\n",
            "Preparing to unpack .../56-python3-html5lib_0.999999999-1_all.deb ...\r\n",
            "Unpacking python3-html5lib (0.999999999-1) ...\r\n",
            "Selecting previously unselected package python3-lxml:amd64.\r\n",
            "Preparing to unpack .../57-python3-lxml_4.2.1-1ubuntu0.6_amd64.deb ...\r\n",
            "Unpacking python3-lxml:amd64 (4.2.1-1ubuntu0.6) ...\r\n",
            "Selecting previously unselected package python3-numexpr.\r\n",
            "Preparing to unpack .../58-python3-numexpr_2.6.4-1_amd64.deb ...\r\n",
            "Unpacking python3-numexpr (2.6.4-1) ...\r\n",
            "Selecting previously unselected package python3-olefile.\r\n",
            "Preparing to unpack .../59-python3-olefile_0.45.1-1_all.deb ...\r\n",
            "Unpacking python3-olefile (0.45.1-1) ...\r\n",
            "Selecting previously unselected package python3-tables-lib.\r\n",
            "Preparing to unpack .../60-python3-tables-lib_3.4.2-4_amd64.deb ...\r\n",
            "Unpacking python3-tables-lib (3.4.2-4) ...\r\n",
            "Selecting previously unselected package python3-tables.\r\n",
            "Preparing to unpack .../61-python3-tables_3.4.2-4_all.deb ...\r\n",
            "Unpacking python3-tables (3.4.2-4) ...\r\n",
            "Setting up libjs-jquery (3.2.1-1) ...\r\n",
            "Setting up python3-yaml (3.12-1build2) ...\r\n",
            "Setting up libblosc1 (1.14.2+ds1-1) ...\r\n",
            "Setting up python3-pickleshare (0.7.4-2) ...\r\n",
            "Setting up libgflags2.2 (2.2.1-1) ...\r\n",
            "Setting up python3-pil:amd64 (5.1.0-1ubuntu0.7) ...\r\n",
            "Setting up python3-simplegeneric (0.8.1-1) ...\r\n",
            "Setting up python3-webencodings (0.5-2) ...\r\n",
            "Setting up liblmdb0:amd64 (0.9.21-1ubuntu0.1) ...\r\n",
            "Setting up python3-lxml:amd64 (4.2.1-1ubuntu0.6) ...\r\n",
            "Setting up python3-olefile (0.45.1-1) ...\r\n",
            "Setting up python3-numpy (1:1.13.3-2ubuntu1) ...\r\n",
            "Setting up python3-six (1.11.0-2) ...\r\n",
            "Setting up python3-pyparsing (2.2.0+dfsg1-2) ...\r\n",
            "Setting up python3-cycler (0.10.0-1) ...\r\n",
            "Setting up python-tables-data (3.4.2-4) ...\r\n",
            "Setting up python3-pkg-resources (39.0.1-2) ...\r\n",
            "Setting up python3-bs4 (4.6.0-1) ...\r\n",
            "Setting up python3-gflags (1.5.1-5) ...\r\n",
            "update-alternatives: using /usr/bin/python3-gflags2man to provide /usr/bin/gflags2man (gflags2man) in auto mode\r\n",
            "Setting up libleveldb1v5:amd64 (1.20-2) ...\r\n",
            "Setting up python3-skimage-lib:amd64 (0.13.1-2) ...\r\n",
            "Setting up python3-pandas-lib (0.22.0-4ubuntu1) ...\r\n",
            "Setting up python3-wcwidth (0.1.7+dfsg1-1) ...\r\n",
            "Setting up libcurand9.1:amd64 (9.1.85-3ubuntu1) ...\r\n",
            "Setting up python3-protobuf (3.0.0-9.1ubuntu1) ...\r\n",
            "Setting up python3-ipython-genutils (0.2.0-1) ...\r\n",
            "Setting up python3-nose (1.3.7-3) ...\r\n",
            "Setting up libgoogle-glog0v5 (0.3.5-1) ...\r\n",
            "Setting up python3-chardet (3.0.4-1) ...\r\n",
            "Setting up python3-html5lib (0.999999999-1) ...\r\n",
            "Setting up libjs-jquery-ui (1.12.1+dfsg-5) ...\r\n",
            "Setting up libcublas9.1:amd64 (9.1.85-3ubuntu1) ...\r\n",
            "Setting up ttf-bitstream-vera (1.10-8) ...\r\n",
            "Setting up cython3 (0.26.1-0.4) ...\r\n",
            "Setting up python3-pywt (0.5.1-1.1ubuntu4) ...\r\n",
            "Setting up libcudart9.1:amd64 (9.1.85-3ubuntu1) ...\r\n",
            "Setting up javascript-common (11) ...\r\n",
            "Setting up python3-decorator (4.1.2-1) ...\r\n",
            "Setting up python3-traitlets (4.3.2-1) ...\r\n",
            "Setting up python3-ptyprocess (0.5.2-1) ...\r\n",
            "Setting up python3-tz (2018.3-2) ...\r\n",
            "Setting up python3-leveldb (0~svn68-3build3) ...\r\n",
            "Setting up python3-dateutil (2.6.1-1) ...\r\n",
            "Setting up python3-h5py (2.7.1-2) ...\r\n",
            "Setting up fonts-lyx (2.2.4-0ubuntu0.18.04.1) ...\r\n",
            "Setting up python3-pygments (2.2.0+dfsg-1ubuntu0.2) ...\r\n",
            "Setting up libcaffe-cuda1:amd64 (1.0.0-6build1) ...\r\n",
            "Setting up python3-scipy (0.19.1-2ubuntu1) ...\r\n",
            "Setting up python3-prompt-toolkit (1.0.15-1) ...\r\n",
            "Setting up python3-tables-lib (3.4.2-4) ...\r\n",
            "Setting up python-matplotlib-data (2.1.1-2ubuntu3) ...\r\n",
            "Setting up python3-numexpr (2.6.4-1) ...\r\n",
            "Setting up python3-tables (3.4.2-4) ...\r\n",
            "Setting up python3-pexpect (4.2.1-1) ...\r\n",
            "Setting up python3-networkx (1.11-1ubuntu3) ...\r\n",
            "Setting up python3-pandas (0.22.0-4ubuntu1) ...\r\n",
            "Setting up caffe-tools-cuda (1.0.0-6build1) ...\r\n",
            "Setting up python3-matplotlib (2.1.1-2ubuntu3) ...\r\n",
            "Setting up python3-ipython (5.5.0-1) ...\r\n",
            "Setting up python3-skimage (0.13.1-2) ...\r\n",
            "Setting up python3-caffe-cuda (1.0.0-6build1) ...\r\n",
            "Setting up caffe-cuda (1.0.0-6build1) ...\r\n",
            "Processing triggers for man-db (2.8.3-2ubuntu0.1) ...\r\n",
            "Processing triggers for fontconfig (2.12.6-0ubuntu2) ...\r\n",
            "Processing triggers for libc-bin (2.27-3ubuntu1.3) ...\r\n",
            "/sbin/ldconfig.real: /usr/local/lib/python3.7/dist-packages/ideep4py/lib/libmkldnn.so.0 is not a symbolic link\r\n",
            "\r\n"
          ]
        }
      ]
    },
    {
      "cell_type": "code",
      "source": [
        "%%bash\n",
        "ln -sf /opt/bin/nvidia-smi /usr/bin/nvidia-smi\n",
        "pip install gputil\n",
        "pip install psutil\n",
        "pip install humanize"
      ],
      "metadata": {
        "colab": {
          "base_uri": "https://localhost:8080/"
        },
        "id": "ow2iYFx2A_Uj",
        "outputId": "78187c80-07a5-4e89-8ea3-4eb165b0368d"
      },
      "execution_count": null,
      "outputs": [
        {
          "output_type": "stream",
          "name": "stdout",
          "text": [
            "Collecting gputil\n",
            "  Downloading GPUtil-1.4.0.tar.gz (5.5 kB)\n",
            "Building wheels for collected packages: gputil\n",
            "  Building wheel for gputil (setup.py): started\n",
            "  Building wheel for gputil (setup.py): finished with status 'done'\n",
            "  Created wheel for gputil: filename=GPUtil-1.4.0-py3-none-any.whl size=7411 sha256=b151524ae58f0b857b9f71e2da0ef4807a4b1346732a9efd65a3d0c295332b83\n",
            "  Stored in directory: /root/.cache/pip/wheels/6e/f8/83/534c52482d6da64622ddbf72cd93c35d2ef2881b78fd08ff0c\n",
            "Successfully built gputil\n",
            "Installing collected packages: gputil\n",
            "Successfully installed gputil-1.4.0\n",
            "Requirement already satisfied: psutil in /usr/local/lib/python3.7/dist-packages (5.4.8)\n",
            "Requirement already satisfied: humanize in /usr/local/lib/python3.7/dist-packages (0.5.1)\n"
          ]
        }
      ]
    },
    {
      "cell_type": "code",
      "source": [
        "import psutil\n",
        "import humanize\n",
        "import os\n",
        "import GPUtil as GPU"
      ],
      "metadata": {
        "id": "fqyEoA72Bd1a"
      },
      "execution_count": null,
      "outputs": []
    },
    {
      "cell_type": "code",
      "source": [
        "GPUs = GPU.getGPUs()\n",
        "gpu = GPUs[0]\n",
        "print(len(GPUs))"
      ],
      "metadata": {
        "colab": {
          "base_uri": "https://localhost:8080/"
        },
        "id": "PHz_7Ap4CPn7",
        "outputId": "6f27ae9f-dae4-4ba8-9734-48f69dfb259a"
      },
      "execution_count": null,
      "outputs": [
        {
          "output_type": "stream",
          "name": "stdout",
          "text": [
            "1\n"
          ]
        }
      ]
    },
    {
      "cell_type": "code",
      "source": [
        "print('''GPU RAM Free: {0:.0f}MB | Used: {1:.0f}MB |\n",
        "        Util {2:3.0f}% | Total {3:.0f}MB'''.\n",
        "      format(gpu.memoryFree, gpu.memoryUsed, gpu.memoryUtil*100, gpu.memoryTotal))"
      ],
      "metadata": {
        "colab": {
          "base_uri": "https://localhost:8080/"
        },
        "id": "IO_hEFlkDWm0",
        "outputId": "a1a5dd84-b44d-4b8f-b4d1-b53e9fcf1921"
      },
      "execution_count": null,
      "outputs": [
        {
          "output_type": "stream",
          "name": "stdout",
          "text": [
            "GPU RAM Free: 11296MB | Used: 145MB |\n",
            "        Util   1% | Total 11441MB\n"
          ]
        }
      ]
    },
    {
      "cell_type": "code",
      "source": [
        "print(\"Gen RAM Free: \" + \n",
        "      humanize.naturalsize( psutil.virtual_memory().available))"
      ],
      "metadata": {
        "colab": {
          "base_uri": "https://localhost:8080/"
        },
        "id": "n4gE58i0DZhN",
        "outputId": "34000f80-9a4a-4882-f1b0-d39dd58b9dc1"
      },
      "execution_count": null,
      "outputs": [
        {
          "output_type": "stream",
          "name": "stdout",
          "text": [
            "Gen RAM Free: 12.1 GB\n"
          ]
        }
      ]
    },
    {
      "cell_type": "code",
      "source": [
        "process = psutil.Process(os.getpid())\n",
        "print(humanize.naturalsize(process.memory_info().rss))"
      ],
      "metadata": {
        "colab": {
          "base_uri": "https://localhost:8080/"
        },
        "id": "4FceJKHpEB9C",
        "outputId": "780e3cb5-a349-4f51-e1e8-feaf7f9ffb21"
      },
      "execution_count": null,
      "outputs": [
        {
          "output_type": "stream",
          "name": "stdout",
          "text": [
            "1.1 GB\n"
          ]
        }
      ]
    },
    {
      "cell_type": "code",
      "source": [
        "!df -h"
      ],
      "metadata": {
        "colab": {
          "base_uri": "https://localhost:8080/"
        },
        "id": "nYmGNHMxEoMI",
        "outputId": "b4433e72-a88d-4314-d7ba-21a6f1d83d02"
      },
      "execution_count": null,
      "outputs": [
        {
          "output_type": "stream",
          "name": "stdout",
          "text": [
            "Filesystem      Size  Used Avail Use% Mounted on\n",
            "overlay          79G   39G   40G  50% /\n",
            "tmpfs            64M     0   64M   0% /dev\n",
            "shm             5.7G     0  5.7G   0% /dev/shm\n",
            "/dev/root       2.0G  1.2G  812M  59% /sbin/docker-init\n",
            "tmpfs           6.4G   40K  6.4G   1% /var/colab\n",
            "/dev/sda1        86G   43G   43G  50% /opt/bin/.nvidia\n",
            "tmpfs           6.4G     0  6.4G   0% /proc/acpi\n",
            "tmpfs           6.4G     0  6.4G   0% /proc/scsi\n",
            "tmpfs           6.4G     0  6.4G   0% /sys/firmware\n"
          ]
        }
      ]
    },
    {
      "cell_type": "code",
      "source": [
        "from google.colab import files\n",
        "\n",
        "uploaded = files.upload()\n",
        "\n",
        "for fn in uploaded.keys():\n",
        "  print('User uploaded file \"{name}\" with length {length} bytes' . \n",
        "        format(name=fn, length=len(uploaded[fn])))"
      ],
      "metadata": {
        "colab": {
          "resources": {
            "http://localhost:8080/nbextensions/google.colab/files.js": {
              "data": "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",
              "ok": true,
              "headers": [
                [
                  "content-type",
                  "application/javascript"
                ]
              ],
              "status": 200,
              "status_text": ""
            }
          },
          "base_uri": "https://localhost:8080/",
          "height": 91
        },
        "id": "7jdCKBntGCPZ",
        "outputId": "085f4114-a2bc-44a3-f1fc-468f5e534b63"
      },
      "execution_count": null,
      "outputs": [
        {
          "output_type": "display_data",
          "data": {
            "text/plain": [
              "<IPython.core.display.HTML object>"
            ],
            "text/html": [
              "\n",
              "     <input type=\"file\" id=\"files-f30355fe-163a-44fd-9311-477cc70b3591\" name=\"files[]\" multiple disabled\n",
              "        style=\"border:none\" />\n",
              "     <output id=\"result-f30355fe-163a-44fd-9311-477cc70b3591\">\n",
              "      Upload widget is only available when the cell has been executed in the\n",
              "      current browser session. Please rerun this cell to enable.\n",
              "      </output>\n",
              "      <script src=\"/nbextensions/google.colab/files.js\"></script> "
            ]
          },
          "metadata": {}
        },
        {
          "output_type": "stream",
          "name": "stdout",
          "text": [
            "Saving pylab1.png to pylab1.png\n",
            "User uploaded file \"pylab1.png\" with length 80476 bytes\n"
          ]
        }
      ]
    },
    {
      "cell_type": "code",
      "source": [
        "!ls"
      ],
      "metadata": {
        "colab": {
          "base_uri": "https://localhost:8080/"
        },
        "id": "4rS8aEhdG3IV",
        "outputId": "9ee74e02-9704-4e2f-fab4-7560facf26a3"
      },
      "execution_count": null,
      "outputs": [
        {
          "output_type": "stream",
          "name": "stdout",
          "text": [
            "pylab1.png  sample_data\n"
          ]
        }
      ]
    },
    {
      "cell_type": "code",
      "source": [
        "import cv2\n",
        "im = cv2.imread(\"pylab1.png\")\n",
        "imRGB = cv2.cvtColor(im, cv2.COLOR_BGR2RGB)\n",
        "plt.imshow(imRGB)"
      ],
      "metadata": {
        "colab": {
          "base_uri": "https://localhost:8080/",
          "height": 286
        },
        "id": "fS5HrMnZHArx",
        "outputId": "badeba41-80cd-4b6c-f5aa-6b7e335efed2"
      },
      "execution_count": null,
      "outputs": [
        {
          "output_type": "execute_result",
          "data": {
            "text/plain": [
              "<matplotlib.image.AxesImage at 0x7fd0af001690>"
            ]
          },
          "metadata": {},
          "execution_count": 21
        },
        {
          "output_type": "display_data",
          "data": {
            "text/plain": [
              "<Figure size 432x288 with 1 Axes>"
            ],
            "image/png": "[encoded data removed]"
          },
          "metadata": {
            "needs_background": "light"
          }
        }
      ]
    },
    {
      "cell_type": "code",
      "source": [
        "from google.colab import files\n",
        "files.download(\"pylab1.png\")"
      ],
      "metadata": {
        "colab": {
          "base_uri": "https://localhost:8080/",
          "height": 17
        },
        "id": "_RWcB2AMHlIr",
        "outputId": "030b62ec-a519-436a-d33b-440cc0a7ff00"
      },
      "execution_count": null,
      "outputs": [
        {
          "output_type": "display_data",
          "data": {
            "text/plain": [
              "<IPython.core.display.Javascript object>"
            ],
            "application/javascript": [
              "\n",
              "    async function download(id, filename, size) {\n",
              "      if (!google.colab.kernel.accessAllowed) {\n",
              "        return;\n",
              "      }\n",
              "      const div = document.createElement('div');\n",
              "      const label = document.createElement('label');\n",
              "      label.textContent = `Downloading \"${filename}\": `;\n",
              "      div.appendChild(label);\n",
              "      const progress = document.createElement('progress');\n",
              "      progress.max = size;\n",
              "      div.appendChild(progress);\n",
              "      document.body.appendChild(div);\n",
              "\n",
              "      const buffers = [];\n",
              "      let downloaded = 0;\n",
              "\n",
              "      const channel = await google.colab.kernel.comms.open(id);\n",
              "      // Send a message to notify the kernel that we're ready.\n",
              "      channel.send({})\n",
              "\n",
              "      for await (const message of channel.messages) {\n",
              "        // Send a message to notify the kernel that we're ready.\n",
              "        channel.send({})\n",
              "        if (message.buffers) {\n",
              "          for (const buffer of message.buffers) {\n",
              "            buffers.push(buffer);\n",
              "            downloaded += buffer.byteLength;\n",
              "            progress.value = downloaded;\n",
              "          }\n",
              "        }\n",
              "      }\n",
              "      const blob = new Blob(buffers, {type: 'application/binary'});\n",
              "      const a = document.createElement('a');\n",
              "      a.href = window.URL.createObjectURL(blob);\n",
              "      a.download = filename;\n",
              "      div.appendChild(a);\n",
              "      a.click();\n",
              "      div.remove();\n",
              "    }\n",
              "  "
            ]
          },
          "metadata": {}
        },
        {
          "output_type": "display_data",
          "data": {
            "text/plain": [
              "<IPython.core.display.Javascript object>"
            ],
            "application/javascript": [
              "download(\"download_45e9fe4e-aff8-494f-b509-3f0a47c0ef23\", \"pylab1.png\", 80476)"
            ]
          },
          "metadata": {}
        }
      ]
    },
    {
      "cell_type": "code",
      "source": [
        "!git clone https://github.com/bmalnersic/opencv.git"
      ],
      "metadata": {
        "id": "IH35hUNDItwL",
        "outputId": "bf2b17ad-fa74-41cb-872f-99f0b2b5e7af",
        "colab": {
          "base_uri": "https://localhost:8080/"
        }
      },
      "execution_count": 1,
      "outputs": [
        {
          "output_type": "stream",
          "name": "stdout",
          "text": [
            "Cloning into 'opencv'...\n",
            "remote: Enumerating objects: 12, done.\u001b[K\n",
            "remote: Counting objects: 100% (12/12), done.\u001b[K\n",
            "remote: Compressing objects: 100% (10/10), done.\u001b[K\n",
            "remote: Total 12 (delta 2), reused 3 (delta 0), pack-reused 0\u001b[K\n",
            "Unpacking objects: 100% (12/12), done.\n"
          ]
        }
      ]
    },
    {
      "cell_type": "code",
      "source": [
        "!ls"
      ],
      "metadata": {
        "id": "tW_fYj6NIyFI",
        "outputId": "4fefa24f-8a82-4403-9b70-5c4bb48c8394",
        "colab": {
          "base_uri": "https://localhost:8080/"
        }
      },
      "execution_count": 2,
      "outputs": [
        {
          "output_type": "stream",
          "name": "stdout",
          "text": [
            "opencv\tsample_data\n"
          ]
        }
      ]
    },
    {
      "cell_type": "code",
      "source": [
        "import os\n",
        "os.chdir(\"./opencv/\")\n",
        "!ls"
      ],
      "metadata": {
        "id": "HRmRbQqgI3yx",
        "outputId": "4e361c78-4bc4-44fa-8581-ae3e1c888c5c",
        "colab": {
          "base_uri": "https://localhost:8080/"
        }
      },
      "execution_count": 3,
      "outputs": [
        {
          "output_type": "stream",
          "name": "stdout",
          "text": [
            "intro_to_colab.ipynb  README.md\n"
          ]
        }
      ]
    }
  ]
}